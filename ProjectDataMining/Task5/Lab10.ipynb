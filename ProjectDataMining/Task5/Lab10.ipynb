{
 "cells": [
  {
   "cell_type": "markdown",
   "id": "02b33ee5",
   "metadata": {},
   "source": [
    "<a href='https://www.darshan.ac.in/'> <img src='https://www.darshan.ac.in/Content/media/DU_Logo.svg' width=\"250\" height=\"300\"/></a>\n",
    "<pre>\n",
    "<center><b><h1>Data Mining</b></center>\n",
    "<center><b><h1>Task-4 Apply Apriori on Online Retail Dataset</b></center>\n",
    "<center><b><h1>137 | Vishal Baraiya | 23010101014</b></center>    \n",
    "<pre>"
   ]
  },
  {
   "cell_type": "markdown",
   "id": "0a09b1b5",
   "metadata": {},
   "source": [
    "\n",
    "\n",
    "# Implement Decision Tree(ID3) in python\n",
    "Uses Information Gain to choose the best feature to split. \n",
    "\n",
    "Recursively builds the tree until stopping conditions are met."
   ]
  },
  {
   "cell_type": "markdown",
   "id": "a811596d",
   "metadata": {},
   "source": [
    "1) Calculate Entropy for the dataset.<BR>\n",
    "2) Calculate Information Gain for each feature. <BR>\n",
    "3) Choose the feature with maximum Information Gain. <BR>\n",
    "4) Split dataset into subsets for that feature. <BR>\n",
    "5) Repeat recursively until: <BR>\n",
    "\n",
    "All samples in a node have the same label.<BR>\n",
    "No features are left.<BR>\n",
    "No data is left."
   ]
  },
  {
   "cell_type": "markdown",
   "id": "a2a39aab",
   "metadata": {},
   "source": [
    "### Step 2. Import the dataset from this [address](https://raw.githubusercontent.com/justmarkham/DAT8/master/data/chipotle.tsv). "
   ]
  },
  {
   "cell_type": "markdown",
   "id": "6116e372",
   "metadata": {},
   "source": [
    "##  import Pandas, Numpy"
   ]
  },
  {
   "cell_type": "code",
   "execution_count": 1,
   "id": "e30bca04",
   "metadata": {},
   "outputs": [],
   "source": [
    "import pandas as pd\n",
    "import numpy as np"
   ]
  },
  {
   "cell_type": "markdown",
   "id": "c6040543",
   "metadata": {},
   "source": [
    "##  Create Following Data"
   ]
  },
  {
   "cell_type": "code",
   "execution_count": 2,
   "id": "060c6cb6",
   "metadata": {},
   "outputs": [],
   "source": [
    "data = pd.DataFrame({\n",
    "    'Outlook': ['Sunny', 'Sunny', 'Overcast', 'Rain', 'Rain', 'Rain', 'Overcast', 'Sunny', 'Sunny', 'Rain', 'Sunny', 'Overcast', 'Overcast', 'Rain'],\n",
    "    'Temperature': ['Hot', 'Hot', 'Hot', 'Mild', 'Cool', 'Cool', 'Cool', 'Mild', 'Cool', 'Mild', 'Mild', 'Mild', 'Hot', 'Mild'],\n",
    "    'Humidity': ['High', 'High', 'High', 'High', 'Normal', 'Normal', 'Normal', 'High', 'Normal', 'Normal', 'Normal', 'High', 'Normal', 'High'],\n",
    "    'Wind': ['Weak', 'Strong', 'Weak', 'Weak', 'Weak', 'Strong', 'Strong', 'Weak', 'Weak', 'Weak', 'Strong', 'Strong', 'Weak', 'Strong'],\n",
    "    'PlayTennis': ['No', 'No', 'Yes', 'Yes', 'Yes', 'No', 'Yes', 'No', 'Yes', 'Yes', 'Yes', 'Yes', 'Yes', 'No']\n",
    "})"
   ]
  },
  {
   "cell_type": "code",
   "execution_count": 3,
   "id": "b0fc0487",
   "metadata": {},
   "outputs": [
    {
     "data": {
      "text/html": [
       "<div>\n",
       "<style scoped>\n",
       "    .dataframe tbody tr th:only-of-type {\n",
       "        vertical-align: middle;\n",
       "    }\n",
       "\n",
       "    .dataframe tbody tr th {\n",
       "        vertical-align: top;\n",
       "    }\n",
       "\n",
       "    .dataframe thead th {\n",
       "        text-align: right;\n",
       "    }\n",
       "</style>\n",
       "<table border=\"1\" class=\"dataframe\">\n",
       "  <thead>\n",
       "    <tr style=\"text-align: right;\">\n",
       "      <th></th>\n",
       "      <th>Outlook</th>\n",
       "      <th>Temperature</th>\n",
       "      <th>Humidity</th>\n",
       "      <th>Wind</th>\n",
       "      <th>PlayTennis</th>\n",
       "    </tr>\n",
       "  </thead>\n",
       "  <tbody>\n",
       "    <tr>\n",
       "      <th>0</th>\n",
       "      <td>Sunny</td>\n",
       "      <td>Hot</td>\n",
       "      <td>High</td>\n",
       "      <td>Weak</td>\n",
       "      <td>No</td>\n",
       "    </tr>\n",
       "    <tr>\n",
       "      <th>1</th>\n",
       "      <td>Sunny</td>\n",
       "      <td>Hot</td>\n",
       "      <td>High</td>\n",
       "      <td>Strong</td>\n",
       "      <td>No</td>\n",
       "    </tr>\n",
       "    <tr>\n",
       "      <th>2</th>\n",
       "      <td>Overcast</td>\n",
       "      <td>Hot</td>\n",
       "      <td>High</td>\n",
       "      <td>Weak</td>\n",
       "      <td>Yes</td>\n",
       "    </tr>\n",
       "    <tr>\n",
       "      <th>3</th>\n",
       "      <td>Rain</td>\n",
       "      <td>Mild</td>\n",
       "      <td>High</td>\n",
       "      <td>Weak</td>\n",
       "      <td>Yes</td>\n",
       "    </tr>\n",
       "    <tr>\n",
       "      <th>4</th>\n",
       "      <td>Rain</td>\n",
       "      <td>Cool</td>\n",
       "      <td>Normal</td>\n",
       "      <td>Weak</td>\n",
       "      <td>Yes</td>\n",
       "    </tr>\n",
       "    <tr>\n",
       "      <th>5</th>\n",
       "      <td>Rain</td>\n",
       "      <td>Cool</td>\n",
       "      <td>Normal</td>\n",
       "      <td>Strong</td>\n",
       "      <td>No</td>\n",
       "    </tr>\n",
       "    <tr>\n",
       "      <th>6</th>\n",
       "      <td>Overcast</td>\n",
       "      <td>Cool</td>\n",
       "      <td>Normal</td>\n",
       "      <td>Strong</td>\n",
       "      <td>Yes</td>\n",
       "    </tr>\n",
       "    <tr>\n",
       "      <th>7</th>\n",
       "      <td>Sunny</td>\n",
       "      <td>Mild</td>\n",
       "      <td>High</td>\n",
       "      <td>Weak</td>\n",
       "      <td>No</td>\n",
       "    </tr>\n",
       "    <tr>\n",
       "      <th>8</th>\n",
       "      <td>Sunny</td>\n",
       "      <td>Cool</td>\n",
       "      <td>Normal</td>\n",
       "      <td>Weak</td>\n",
       "      <td>Yes</td>\n",
       "    </tr>\n",
       "    <tr>\n",
       "      <th>9</th>\n",
       "      <td>Rain</td>\n",
       "      <td>Mild</td>\n",
       "      <td>Normal</td>\n",
       "      <td>Weak</td>\n",
       "      <td>Yes</td>\n",
       "    </tr>\n",
       "    <tr>\n",
       "      <th>10</th>\n",
       "      <td>Sunny</td>\n",
       "      <td>Mild</td>\n",
       "      <td>Normal</td>\n",
       "      <td>Strong</td>\n",
       "      <td>Yes</td>\n",
       "    </tr>\n",
       "    <tr>\n",
       "      <th>11</th>\n",
       "      <td>Overcast</td>\n",
       "      <td>Mild</td>\n",
       "      <td>High</td>\n",
       "      <td>Strong</td>\n",
       "      <td>Yes</td>\n",
       "    </tr>\n",
       "    <tr>\n",
       "      <th>12</th>\n",
       "      <td>Overcast</td>\n",
       "      <td>Hot</td>\n",
       "      <td>Normal</td>\n",
       "      <td>Weak</td>\n",
       "      <td>Yes</td>\n",
       "    </tr>\n",
       "    <tr>\n",
       "      <th>13</th>\n",
       "      <td>Rain</td>\n",
       "      <td>Mild</td>\n",
       "      <td>High</td>\n",
       "      <td>Strong</td>\n",
       "      <td>No</td>\n",
       "    </tr>\n",
       "  </tbody>\n",
       "</table>\n",
       "</div>"
      ],
      "text/plain": [
       "     Outlook Temperature Humidity    Wind PlayTennis\n",
       "0      Sunny         Hot     High    Weak         No\n",
       "1      Sunny         Hot     High  Strong         No\n",
       "2   Overcast         Hot     High    Weak        Yes\n",
       "3       Rain        Mild     High    Weak        Yes\n",
       "4       Rain        Cool   Normal    Weak        Yes\n",
       "5       Rain        Cool   Normal  Strong         No\n",
       "6   Overcast        Cool   Normal  Strong        Yes\n",
       "7      Sunny        Mild     High    Weak         No\n",
       "8      Sunny        Cool   Normal    Weak        Yes\n",
       "9       Rain        Mild   Normal    Weak        Yes\n",
       "10     Sunny        Mild   Normal  Strong        Yes\n",
       "11  Overcast        Mild     High  Strong        Yes\n",
       "12  Overcast         Hot   Normal    Weak        Yes\n",
       "13      Rain        Mild     High  Strong         No"
      ]
     },
     "execution_count": 3,
     "metadata": {},
     "output_type": "execute_result"
    }
   ],
   "source": [
    "data"
   ]
  },
  {
   "cell_type": "markdown",
   "id": "4b3143f3",
   "metadata": {},
   "source": [
    "## Now Define Function to  Calculate Entropy"
   ]
  },
  {
   "cell_type": "code",
   "execution_count": 4,
   "id": "c355d01d",
   "metadata": {},
   "outputs": [],
   "source": [
    "def entropy(y):\n",
    "    unique_classes, counts = np.unique(y, return_counts=True)\n",
    "    probability = counts / counts.sum()\n",
    "    entropy = -np.sum(probability * np.log2(probability))\n",
    "    return entropy\n",
    "    "
   ]
  },
  {
   "cell_type": "markdown",
   "id": "f78c29c1",
   "metadata": {},
   "source": [
    "## Testing of Above Function - \n",
    "y = np.array(['Yes', 'No',   'Yes', 'Yes'])  \n",
    "Function Call - > entropy(y))\n",
    "\n",
    "output - 0.8112781244591328"
   ]
  },
  {
   "cell_type": "code",
   "execution_count": 5,
   "id": "9ad3df81",
   "metadata": {},
   "outputs": [
    {
     "data": {
      "text/plain": [
       "0.8112781244591328"
      ]
     },
     "execution_count": 5,
     "metadata": {},
     "output_type": "execute_result"
    }
   ],
   "source": [
    "y = np.array(['Yes','No','Yes','Yes'])\n",
    "entropy(y)"
   ]
  },
  {
   "cell_type": "markdown",
   "id": "c3ad0412",
   "metadata": {},
   "source": [
    "## Define function to Calculate Information Gain"
   ]
  },
  {
   "cell_type": "code",
   "execution_count": 6,
   "id": "3ccc1ba9",
   "metadata": {},
   "outputs": [],
   "source": [
    "def information_gain(data, split_attribute, target):\n",
    "    total_entropy = entropy(data[target])\n",
    "    print(\"Total Entropy = \",total_entropy)\n",
    "    unique_classes, counts = np.unique(data[split_attribute], return_counts=True)\n",
    "    print(unique_classes)\n",
    "    print(counts)\n",
    "    weighted_entropy = 0\n",
    "    for i in range(len(unique_classes)):\n",
    "        subset = data[data[split_attribute] == unique_classes[i] ]\n",
    "        print(subset)\n",
    "        weighted_entropy += (counts[i]/counts.sum()) * entropy(subset[target])\n",
    "        print(weighted_entropy)\n",
    "    return total_entropy - weighted_entropy\n",
    "    "
   ]
  },
  {
   "cell_type": "markdown",
   "id": "04284268",
   "metadata": {},
   "source": [
    "## Testing of Above Function- \n",
    "data = pd.DataFrame({\n",
    "    'Weather': ['Sunny', 'Sunny', 'Rain', 'Rain'],\n",
    "    'Play':    ['Yes', 'No',   'Yes', 'Yes']\n",
    "})\n",
    "\n",
    "Function Call - > information_gain(data, 'Weather', 'Play')\n",
    "\n",
    "\n",
    "Output - 0.31127812445913283"
   ]
  },
  {
   "cell_type": "code",
   "execution_count": 7,
   "id": "c01a097d",
   "metadata": {},
   "outputs": [
    {
     "name": "stdout",
     "output_type": "stream",
     "text": [
      "Total Entropy =  0.8112781244591328\n",
      "['Rain' 'Sunny']\n",
      "[2 2]\n",
      "  Weather Play\n",
      "2    Rain  Yes\n",
      "3    Rain  Yes\n",
      "0.0\n",
      "  Weather Play\n",
      "0   Sunny  Yes\n",
      "1   Sunny   No\n",
      "0.5\n"
     ]
    },
    {
     "data": {
      "text/plain": [
       "0.31127812445913283"
      ]
     },
     "execution_count": 7,
     "metadata": {},
     "output_type": "execute_result"
    }
   ],
   "source": [
    "data1 = pd.DataFrame({ 'Weather': ['Sunny', 'Sunny', 'Rain', 'Rain'], 'Play': ['Yes', 'No', 'Yes', 'Yes'] })\n",
    "information_gain(data1, 'Weather', 'Play')"
   ]
  },
  {
   "cell_type": "markdown",
   "id": "3b13d66b",
   "metadata": {},
   "source": [
    "## Implement ID3 Algo"
   ]
  },
  {
   "cell_type": "code",
   "execution_count": 8,
   "id": "e24c1ace",
   "metadata": {},
   "outputs": [],
   "source": [
    "def id3(data, features, target):\n",
    "    # If all labels are same → return the label\n",
    "    if(len(np.unique(data[target]))) == 1:\n",
    "        return np.unique(data[target])[0]\n",
    "    \n",
    "    # If no features left → return majority label\n",
    "    if len(features) == 0:\n",
    "        return data[target].mode()[0]\n",
    "    \n",
    "    # Choose best feature\n",
    "    gains = [information_gain(data,feature,target) for feature in features]\n",
    "    best_feature =features[np.argmax(gains)]\n",
    "\n",
    "    tree = {best_feature:{}}\n",
    "    # For each value of best feature → branch\n",
    "    for value in np.unique(data[best_feature]):\n",
    "        sub_data = data[data[best_feature] == value].drop(columns=[best_feature])\n",
    "        subtree = id3(sub_data,[f for f in features if f != best_feature],target)\n",
    "        tree[best_feature][value]=subtree\n",
    "    return tree"
   ]
  },
  {
   "cell_type": "markdown",
   "id": "ae7b171a",
   "metadata": {},
   "source": [
    "## Use ID3"
   ]
  },
  {
   "cell_type": "code",
   "execution_count": 9,
   "id": "f3a2845c",
   "metadata": {},
   "outputs": [
    {
     "name": "stdout",
     "output_type": "stream",
     "text": [
      "Total Entropy =  0.9402859586706311\n",
      "['Overcast' 'Rain' 'Sunny']\n",
      "[4 5 5]\n",
      "     Outlook Temperature Humidity    Wind PlayTennis\n",
      "2   Overcast         Hot     High    Weak        Yes\n",
      "6   Overcast        Cool   Normal  Strong        Yes\n",
      "11  Overcast        Mild     High  Strong        Yes\n",
      "12  Overcast         Hot   Normal    Weak        Yes\n",
      "0.0\n",
      "   Outlook Temperature Humidity    Wind PlayTennis\n",
      "3     Rain        Mild     High    Weak        Yes\n",
      "4     Rain        Cool   Normal    Weak        Yes\n",
      "5     Rain        Cool   Normal  Strong         No\n",
      "9     Rain        Mild   Normal    Weak        Yes\n",
      "13    Rain        Mild     High  Strong         No\n",
      "0.3467680694480959\n",
      "   Outlook Temperature Humidity    Wind PlayTennis\n",
      "0    Sunny         Hot     High    Weak         No\n",
      "1    Sunny         Hot     High  Strong         No\n",
      "7    Sunny        Mild     High    Weak         No\n",
      "8    Sunny        Cool   Normal    Weak        Yes\n",
      "10   Sunny        Mild   Normal  Strong        Yes\n",
      "0.6935361388961918\n",
      "Total Entropy =  0.9402859586706311\n",
      "['Cool' 'Hot' 'Mild']\n",
      "[4 4 6]\n",
      "    Outlook Temperature Humidity    Wind PlayTennis\n",
      "4      Rain        Cool   Normal    Weak        Yes\n",
      "5      Rain        Cool   Normal  Strong         No\n",
      "6  Overcast        Cool   Normal  Strong        Yes\n",
      "8     Sunny        Cool   Normal    Weak        Yes\n",
      "0.23179374984546652\n",
      "     Outlook Temperature Humidity    Wind PlayTennis\n",
      "0      Sunny         Hot     High    Weak         No\n",
      "1      Sunny         Hot     High  Strong         No\n",
      "2   Overcast         Hot     High    Weak        Yes\n",
      "12  Overcast         Hot   Normal    Weak        Yes\n",
      "0.5175080355597522\n",
      "     Outlook Temperature Humidity    Wind PlayTennis\n",
      "3       Rain        Mild     High    Weak        Yes\n",
      "7      Sunny        Mild     High    Weak         No\n",
      "9       Rain        Mild   Normal    Weak        Yes\n",
      "10     Sunny        Mild   Normal  Strong        Yes\n",
      "11  Overcast        Mild     High  Strong        Yes\n",
      "13      Rain        Mild     High  Strong         No\n",
      "0.9110633930116763\n",
      "Total Entropy =  0.9402859586706311\n",
      "['High' 'Normal']\n",
      "[7 7]\n",
      "     Outlook Temperature Humidity    Wind PlayTennis\n",
      "0      Sunny         Hot     High    Weak         No\n",
      "1      Sunny         Hot     High  Strong         No\n",
      "2   Overcast         Hot     High    Weak        Yes\n",
      "3       Rain        Mild     High    Weak        Yes\n",
      "7      Sunny        Mild     High    Weak         No\n",
      "11  Overcast        Mild     High  Strong        Yes\n",
      "13      Rain        Mild     High  Strong         No\n",
      "0.49261406801712576\n",
      "     Outlook Temperature Humidity    Wind PlayTennis\n",
      "4       Rain        Cool   Normal    Weak        Yes\n",
      "5       Rain        Cool   Normal  Strong         No\n",
      "6   Overcast        Cool   Normal  Strong        Yes\n",
      "8      Sunny        Cool   Normal    Weak        Yes\n",
      "9       Rain        Mild   Normal    Weak        Yes\n",
      "10     Sunny        Mild   Normal  Strong        Yes\n",
      "12  Overcast         Hot   Normal    Weak        Yes\n",
      "0.7884504573082896\n",
      "Total Entropy =  0.9402859586706311\n",
      "['Strong' 'Weak']\n",
      "[6 8]\n",
      "     Outlook Temperature Humidity    Wind PlayTennis\n",
      "1      Sunny         Hot     High  Strong         No\n",
      "5       Rain        Cool   Normal  Strong         No\n",
      "6   Overcast        Cool   Normal  Strong        Yes\n",
      "10     Sunny        Mild   Normal  Strong        Yes\n",
      "11  Overcast        Mild     High  Strong        Yes\n",
      "13      Rain        Mild     High  Strong         No\n",
      "0.42857142857142855\n",
      "     Outlook Temperature Humidity  Wind PlayTennis\n",
      "0      Sunny         Hot     High  Weak         No\n",
      "2   Overcast         Hot     High  Weak        Yes\n",
      "3       Rain        Mild     High  Weak        Yes\n",
      "4       Rain        Cool   Normal  Weak        Yes\n",
      "7      Sunny        Mild     High  Weak         No\n",
      "8      Sunny        Cool   Normal  Weak        Yes\n",
      "9       Rain        Mild   Normal  Weak        Yes\n",
      "12  Overcast         Hot   Normal  Weak        Yes\n",
      "0.8921589282623617\n",
      "Total Entropy =  0.9709505944546686\n",
      "['Cool' 'Mild']\n",
      "[2 3]\n",
      "  Temperature Humidity    Wind PlayTennis\n",
      "4        Cool   Normal    Weak        Yes\n",
      "5        Cool   Normal  Strong         No\n",
      "0.4\n",
      "   Temperature Humidity    Wind PlayTennis\n",
      "3         Mild     High    Weak        Yes\n",
      "9         Mild   Normal    Weak        Yes\n",
      "13        Mild     High  Strong         No\n",
      "0.9509775004326937\n",
      "Total Entropy =  0.9709505944546686\n",
      "['High' 'Normal']\n",
      "[2 3]\n",
      "   Temperature Humidity    Wind PlayTennis\n",
      "3         Mild     High    Weak        Yes\n",
      "13        Mild     High  Strong         No\n",
      "0.4\n",
      "  Temperature Humidity    Wind PlayTennis\n",
      "4        Cool   Normal    Weak        Yes\n",
      "5        Cool   Normal  Strong         No\n",
      "9        Mild   Normal    Weak        Yes\n",
      "0.9509775004326937\n",
      "Total Entropy =  0.9709505944546686\n",
      "['Strong' 'Weak']\n",
      "[2 3]\n",
      "   Temperature Humidity    Wind PlayTennis\n",
      "5         Cool   Normal  Strong         No\n",
      "13        Mild     High  Strong         No\n",
      "0.0\n",
      "  Temperature Humidity  Wind PlayTennis\n",
      "3        Mild     High  Weak        Yes\n",
      "4        Cool   Normal  Weak        Yes\n",
      "9        Mild   Normal  Weak        Yes\n",
      "0.0\n",
      "Total Entropy =  0.9709505944546686\n",
      "['Cool' 'Hot' 'Mild']\n",
      "[1 2 2]\n",
      "  Temperature Humidity  Wind PlayTennis\n",
      "8        Cool   Normal  Weak        Yes\n",
      "0.0\n",
      "  Temperature Humidity    Wind PlayTennis\n",
      "0         Hot     High    Weak         No\n",
      "1         Hot     High  Strong         No\n",
      "0.0\n",
      "   Temperature Humidity    Wind PlayTennis\n",
      "7         Mild     High    Weak         No\n",
      "10        Mild   Normal  Strong        Yes\n",
      "0.4\n",
      "Total Entropy =  0.9709505944546686\n",
      "['High' 'Normal']\n",
      "[3 2]\n",
      "  Temperature Humidity    Wind PlayTennis\n",
      "0         Hot     High    Weak         No\n",
      "1         Hot     High  Strong         No\n",
      "7        Mild     High    Weak         No\n",
      "0.0\n",
      "   Temperature Humidity    Wind PlayTennis\n",
      "8         Cool   Normal    Weak        Yes\n",
      "10        Mild   Normal  Strong        Yes\n",
      "0.0\n",
      "Total Entropy =  0.9709505944546686\n",
      "['Strong' 'Weak']\n",
      "[2 3]\n",
      "   Temperature Humidity    Wind PlayTennis\n",
      "1          Hot     High  Strong         No\n",
      "10        Mild   Normal  Strong        Yes\n",
      "0.4\n",
      "  Temperature Humidity  Wind PlayTennis\n",
      "0         Hot     High  Weak         No\n",
      "7        Mild     High  Weak         No\n",
      "8        Cool   Normal  Weak        Yes\n",
      "0.9509775004326937\n"
     ]
    }
   ],
   "source": [
    "features = list(data.columns[:-1])\n",
    "target = 'PlayTennis'\n",
    "tree = id3(data,features,target)"
   ]
  },
  {
   "cell_type": "markdown",
   "id": "4d2956ef",
   "metadata": {},
   "source": [
    "## Print Tree"
   ]
  },
  {
   "cell_type": "code",
   "execution_count": 10,
   "id": "d4b746b7",
   "metadata": {},
   "outputs": [
    {
     "data": {
      "text/plain": [
       "{'Outlook': {'Overcast': 'Yes',\n",
       "  'Rain': {'Wind': {'Strong': 'No', 'Weak': 'Yes'}},\n",
       "  'Sunny': {'Humidity': {'High': 'No', 'Normal': 'Yes'}}}}"
      ]
     },
     "execution_count": 10,
     "metadata": {},
     "output_type": "execute_result"
    }
   ],
   "source": [
    "tree"
   ]
  },
  {
   "cell_type": "markdown",
   "id": "f2acdf44",
   "metadata": {},
   "source": [
    "## Extra: Create Predict Function"
   ]
  },
  {
   "cell_type": "code",
   "execution_count": 11,
   "id": "d36f9f9a",
   "metadata": {},
   "outputs": [],
   "source": [
    "def predict(tree, sample):\n",
    "    # If tree is a leaf node (not a dict), return the label directly\n",
    "    if not isinstance(tree, dict):\n",
    "        return tree\n",
    "    \n",
    "    # Extract the root feature\n",
    "    root = next(iter(tree))  \n",
    "    \n",
    "    # Get the value of this feature from the sample\n",
    "    feature_value = sample[root]\n",
    "    \n",
    "    # If the value exists in the tree → follow that branch\n",
    "    if feature_value in tree[root]:\n",
    "        return predict(tree[root][feature_value], sample)\n",
    "    else:\n",
    "        # If unseen feature value → fallback (majority or None)\n",
    "        return None\n"
   ]
  },
  {
   "cell_type": "markdown",
   "id": "83859592",
   "metadata": {},
   "source": [
    "##  Extra: Predict for a sample\n",
    "sample = {'Outlook': 'Sunny', 'Temperature': 'Cool', 'Humidity': 'High', 'Wind': 'Strong'}\n",
    "\n",
    "\n",
    "Your Answer ?"
   ]
  },
  {
   "cell_type": "code",
   "execution_count": 12,
   "id": "fa44fb7e",
   "metadata": {},
   "outputs": [
    {
     "data": {
      "text/plain": [
       "'No'"
      ]
     },
     "execution_count": 12,
     "metadata": {},
     "output_type": "execute_result"
    }
   ],
   "source": [
    "sample = {'Outlook': 'Sunny', 'Temperature': 'Cool', 'Humidity': 'High', 'Wind': 'Strong'}\n",
    "predict(tree, sample)"
   ]
  },
  {
   "cell_type": "code",
   "execution_count": null,
   "id": "667a3fdd",
   "metadata": {},
   "outputs": [],
   "source": []
  }
 ],
 "metadata": {
  "kernelspec": {
   "display_name": "Python 3 (ipykernel)",
   "language": "python",
   "name": "python3"
  },
  "language_info": {
   "codemirror_mode": {
    "name": "ipython",
    "version": 3
   },
   "file_extension": ".py",
   "mimetype": "text/x-python",
   "name": "python",
   "nbconvert_exporter": "python",
   "pygments_lexer": "ipython3",
   "version": "3.12.7"
  }
 },
 "nbformat": 4,
 "nbformat_minor": 5
}
