{
 "cells": [
  {
   "cell_type": "markdown",
   "id": "6c0b33b9-515c-4741-bbd3-e879580d8bf2",
   "metadata": {},
   "source": [
    "### Apriori with Pandas & NumPy"
   ]
  },
  {
   "cell_type": "code",
   "execution_count": 1,
   "id": "928505ce-7cac-440d-86bc-6c9d3f92e50f",
   "metadata": {},
   "outputs": [],
   "source": [
    "import pandas as pd\n",
    "import numpy as np\n",
    "from itertools import combinations\n"
   ]
  },
  {
   "cell_type": "code",
   "execution_count": 2,
   "id": "d92eb671-7755-4a17-b5bf-6d3a44518cc5",
   "metadata": {},
   "outputs": [
    {
     "data": {
      "text/html": [
       "<div>\n",
       "<style scoped>\n",
       "    .dataframe tbody tr th:only-of-type {\n",
       "        vertical-align: middle;\n",
       "    }\n",
       "\n",
       "    .dataframe tbody tr th {\n",
       "        vertical-align: top;\n",
       "    }\n",
       "\n",
       "    .dataframe thead th {\n",
       "        text-align: right;\n",
       "    }\n",
       "</style>\n",
       "<table border=\"1\" class=\"dataframe\">\n",
       "  <thead>\n",
       "    <tr style=\"text-align: right;\">\n",
       "      <th></th>\n",
       "      <th>0</th>\n",
       "      <th>1</th>\n",
       "      <th>2</th>\n",
       "      <th>3</th>\n",
       "    </tr>\n",
       "  </thead>\n",
       "  <tbody>\n",
       "    <tr>\n",
       "      <th>0</th>\n",
       "      <td>milk</td>\n",
       "      <td>bread</td>\n",
       "      <td>nuts</td>\n",
       "      <td>apple</td>\n",
       "    </tr>\n",
       "    <tr>\n",
       "      <th>1</th>\n",
       "      <td>milk</td>\n",
       "      <td>bread</td>\n",
       "      <td>nuts</td>\n",
       "      <td>None</td>\n",
       "    </tr>\n",
       "    <tr>\n",
       "      <th>2</th>\n",
       "      <td>milk</td>\n",
       "      <td>bread</td>\n",
       "      <td>None</td>\n",
       "      <td>None</td>\n",
       "    </tr>\n",
       "    <tr>\n",
       "      <th>3</th>\n",
       "      <td>milk</td>\n",
       "      <td>bread</td>\n",
       "      <td>apple</td>\n",
       "      <td>None</td>\n",
       "    </tr>\n",
       "    <tr>\n",
       "      <th>4</th>\n",
       "      <td>bread</td>\n",
       "      <td>milk</td>\n",
       "      <td>apple</td>\n",
       "      <td>None</td>\n",
       "    </tr>\n",
       "  </tbody>\n",
       "</table>\n",
       "</div>"
      ],
      "text/plain": [
       "       0      1      2      3\n",
       "0   milk  bread   nuts  apple\n",
       "1   milk  bread   nuts   None\n",
       "2   milk  bread   None   None\n",
       "3   milk  bread  apple   None\n",
       "4  bread   milk  apple   None"
      ]
     },
     "execution_count": 2,
     "metadata": {},
     "output_type": "execute_result"
    }
   ],
   "source": [
    "transactions = [\n",
    "    ['milk', 'bread', 'nuts', 'apple'],\n",
    "    ['milk', 'bread', 'nuts'],\n",
    "    ['milk', 'bread'],\n",
    "    ['milk', 'bread', 'apple'],\n",
    "    ['bread', 'milk', 'apple'],\n",
    "]\n",
    "\n",
    "df = pd.DataFrame(transactions)\n",
    "df"
   ]
  },
  {
   "cell_type": "code",
   "execution_count": 3,
   "id": "bc0095ae-8348-475b-847c-493b003199b2",
   "metadata": {},
   "outputs": [
    {
     "data": {
      "text/plain": [
       "[{'apple', 'bread', 'milk', 'nuts'},\n",
       " {'bread', 'milk', 'nuts'},\n",
       " {'bread', 'milk'},\n",
       " {'apple', 'bread', 'milk'},\n",
       " {'apple', 'bread', 'milk'}]"
      ]
     },
     "execution_count": 3,
     "metadata": {},
     "output_type": "execute_result"
    }
   ],
   "source": [
    "transaction_list = [set(t.dropna()) for _, t in df.iterrows()]\n",
    "transaction_list"
   ]
  },
  {
   "cell_type": "code",
   "execution_count": 4,
   "id": "1929fea2-a6c0-4d06-9c08-c95163e361f5",
   "metadata": {},
   "outputs": [],
   "source": [
    "def get_support(itemset, transactions):\n",
    "    count = 0\n",
    "    for t in transactions:\n",
    "        if itemset.issubset(t):\n",
    "            count += 1\n",
    "    return count\n"
   ]
  },
  {
   "cell_type": "code",
   "execution_count": 5,
   "id": "d24d55b6-8703-47b1-bbf5-05720fa9db96",
   "metadata": {},
   "outputs": [],
   "source": [
    "def generate_candidates(prev_frequent, k):\n",
    "    items = set()\n",
    "    for itemset in prev_frequent:\n",
    "        items |= itemset\n",
    "    return [set(c) for c in combinations(items, k)]\n"
   ]
  },
  {
   "cell_type": "code",
   "execution_count": 6,
   "id": "eff3c6b9-0202-4853-949d-0cacdf7088c0",
   "metadata": {},
   "outputs": [],
   "source": [
    "def apriori(transactions, min_support=2):\n",
    "    frequent_itemsets = []\n",
    "    k = 1\n",
    "\n",
    "    # Step 1: Get all individual items\n",
    "    items = sorted(set().union(*transactions))\n",
    "    candidate_k = [set([item]) for item in items]\n",
    "\n",
    "    while candidate_k:\n",
    "        itemset_support = {}\n",
    "        for itemset in candidate_k:\n",
    "            support = get_support(itemset, transactions)\n",
    "            if support >= min_support:\n",
    "                itemset_support[frozenset(itemset)] = support\n",
    "\n",
    "        # No more frequent itemsets\n",
    "        if not itemset_support:\n",
    "            break\n",
    "\n",
    "        # Save frequent itemsets\n",
    "        frequent_itemsets.extend([(set(k), v) for k, v in itemset_support.items()])\n",
    "\n",
    "        # Generate candidates for next level\n",
    "        prev_frequent = list(itemset_support.keys())\n",
    "        k += 1\n",
    "        candidate_k = generate_candidates(prev_frequent, k)\n",
    "\n",
    "    return frequent_itemsets\n"
   ]
  },
  {
   "cell_type": "code",
   "execution_count": 7,
   "id": "a4bf4d50-50e3-408e-b722-bdd98b0b8afa",
   "metadata": {},
   "outputs": [
    {
     "name": "stdout",
     "output_type": "stream",
     "text": [
      "Itemset: {'apple'}, Support: 3\n",
      "Itemset: {'bread'}, Support: 5\n",
      "Itemset: {'milk'}, Support: 5\n",
      "Itemset: {'bread', 'milk'}, Support: 5\n",
      "Itemset: {'bread', 'apple'}, Support: 3\n",
      "Itemset: {'milk', 'apple'}, Support: 3\n",
      "Itemset: {'bread', 'milk', 'apple'}, Support: 3\n"
     ]
    }
   ],
   "source": [
    "frequent_items = apriori(transaction_list, min_support=3)\n",
    "\n",
    "for itemset, support in frequent_items:\n",
    "    print(f\"Itemset: {itemset}, Support: {support}\")\n"
   ]
  },
  {
   "cell_type": "code",
   "execution_count": null,
   "id": "5482cdb2-7a3f-455a-850e-92bead71e71e",
   "metadata": {},
   "outputs": [],
   "source": []
  }
 ],
 "metadata": {
  "kernelspec": {
   "display_name": "Python 3 (ipykernel)",
   "language": "python",
   "name": "python3"
  },
  "language_info": {
   "codemirror_mode": {
    "name": "ipython",
    "version": 3
   },
   "file_extension": ".py",
   "mimetype": "text/x-python",
   "name": "python",
   "nbconvert_exporter": "python",
   "pygments_lexer": "ipython3",
   "version": "3.12.7"
  }
 },
 "nbformat": 4,
 "nbformat_minor": 5
}
